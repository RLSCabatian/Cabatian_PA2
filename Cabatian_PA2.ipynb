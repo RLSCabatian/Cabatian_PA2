{
 "cells": [
  {
   "cell_type": "markdown",
   "id": "04c1397d-1a69-4e5a-940f-9df669e59ff3",
   "metadata": {},
   "source": [
    "## Normalization Problem"
   ]
  },
  {
   "cell_type": "code",
   "execution_count": 49,
   "id": "c69fd8a7-262b-4762-9083-fdf0044a6fd8",
   "metadata": {
    "scrolled": true
   },
   "outputs": [
    {
     "name": "stdout",
     "output_type": "stream",
     "text": [
      "Original Value: \n",
      " [[0.46086187 0.84715866 0.25929357 0.93914511 0.96556181]\n",
      " [0.41596598 0.83260649 0.18402485 0.51945112 0.51266944]\n",
      " [0.55735762 0.87197792 0.58047002 0.72199439 0.10709104]\n",
      " [0.29896503 0.83882289 0.46014752 0.32504504 0.65463942]\n",
      " [0.35445968 0.092665   0.48369713 0.77633538 0.30893073]] \n",
      " Normalized Value: \n",
      " [[-0.2885077   1.21936853 -1.0753122   1.5784297   1.68154503]\n",
      " [-0.46375493  1.16256538 -1.36911718 -0.05980963 -0.08628134]\n",
      " [ 0.08815514  1.31624838  0.17837239  0.73080058 -1.66942168]\n",
      " [-0.92045809  1.18683059 -0.29129614 -0.81865701  0.46788625]\n",
      " [-0.70383948 -1.7257325  -0.19937223  0.94291595 -0.88155782]]\n"
     ]
    }
   ],
   "source": [
    "\n",
    "#Import numerical python Library\n",
    "import numpy as np\n",
    "#Create random 5x5 array\n",
    "X = np. random. rand(5, 5)\n",
    "#Function for Normalized Values\n",
    "Z = (X - X.mean()) /X.std() \n",
    "#save Normalized values as X_nomatized. ny\n",
    "np. save(\"X_normalized.npy\", Z) \n",
    "#Print X and Z\n",
    "print (\"Original Value: \\n\", X, \"\\n Normalized Value: \\n\", Z) \n",
    "#end"
   ]
  },
  {
   "cell_type": "markdown",
   "id": "d6ac73a1-183c-4479-84bd-764f3d7b14a9",
   "metadata": {},
   "source": [
    "## Divisible by 3 Problem"
   ]
  },
  {
   "cell_type": "code",
   "execution_count": 51,
   "id": "4ece5d6b-fe63-456c-bd81-11f3d74f9afb",
   "metadata": {},
   "outputs": [
    {
     "data": {
      "text/plain": [
       "array([[  1,   2,   3,   4,   5,   6,   7,   8,   9,  10],\n",
       "       [ 11,  12,  13,  14,  15,  16,  17,  18,  19,  20],\n",
       "       [ 21,  22,  23,  24,  25,  26,  27,  28,  29,  30],\n",
       "       [ 31,  32,  33,  34,  35,  36,  37,  38,  39,  40],\n",
       "       [ 41,  42,  43,  44,  45,  46,  47,  48,  49,  50],\n",
       "       [ 51,  52,  53,  54,  55,  56,  57,  58,  59,  60],\n",
       "       [ 61,  62,  63,  64,  65,  66,  67,  68,  69,  70],\n",
       "       [ 71,  72,  73,  74,  75,  76,  77,  78,  79,  80],\n",
       "       [ 81,  82,  83,  84,  85,  86,  87,  88,  89,  90],\n",
       "       [ 91,  92,  93,  94,  95,  96,  97,  98,  99, 100]])"
      ]
     },
     "execution_count": 51,
     "metadata": {},
     "output_type": "execute_result"
    }
   ],
   "source": [
    "#Import numerical python Library\n",
    "import numpy as np\n",
    "#Make an array with the first 100 positive numbers in it\n",
    "A = np.array(np.arange (1,101,1))\n",
    "#Make the array 10 by 10 in size\n",
    "A.resize (10,10)\n",
    "#Creates a new array and squares each entry on its own\n",
    "Squared_A = np.square (A)\n",
    "#Keeps track of each Squared A element that is divisible by three.\n",
    "Div_by_3 = Squared_A[A&3==0]\n",
    "np. save ('div_by_3.npy', Div_by_3)\n",
    "#Print\n",
    "A"
   ]
  }
 ],
 "metadata": {
  "kernelspec": {
   "display_name": "Python 3 (ipykernel)",
   "language": "python",
   "name": "python3"
  },
  "language_info": {
   "codemirror_mode": {
    "name": "ipython",
    "version": 3
   },
   "file_extension": ".py",
   "mimetype": "text/x-python",
   "name": "python",
   "nbconvert_exporter": "python",
   "pygments_lexer": "ipython3",
   "version": "3.12.4"
  }
 },
 "nbformat": 4,
 "nbformat_minor": 5
}
